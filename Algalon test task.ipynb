{
 "cells": [
  {
   "cell_type": "code",
   "execution_count": 3,
   "id": "plain-fashion",
   "metadata": {},
   "outputs": [],
   "source": [
    "import numpy as np\n",
    "import pandas as pd\n",
    "import matplotlib.pyplot as plt\n",
    "import numpy.polynomial.polynomial as poly"
   ]
  },
  {
   "cell_type": "markdown",
   "id": "piano-agenda",
   "metadata": {},
   "source": [
    "## Задача № 1"
   ]
  },
  {
   "cell_type": "code",
   "execution_count": 11,
   "id": "congressional-cookbook",
   "metadata": {},
   "outputs": [],
   "source": [
    "data = np.array([[70,  70, 96],\n",
    "                 [80,  63, 75],\n",
    "                 [90,  55, 74],\n",
    "                 [100, 56, 65],\n",
    "                 [110, 52, 63],\n",
    "                 [120, 58, 72],\n",
    "                 [130, 63, 75],\n",
    "                 [140, 70, 80],\n",
    "                 [150, 70, 89]])"
   ]
  },
  {
   "cell_type": "markdown",
   "id": "encouraging-organic",
   "metadata": {},
   "source": [
    "Т.к. требуется, чтобы кривая проходила строго между точками Bid и Ask, построим точки, равные среднему между Bid и Ask, которые будем аппроксимировать полиномом"
   ]
  },
  {
   "cell_type": "code",
   "execution_count": 12,
   "id": "lyric-stations",
   "metadata": {},
   "outputs": [],
   "source": [
    "data = np.insert(data, 3, (data[:,1] + data[:,2])/2, axis=1)"
   ]
  },
  {
   "cell_type": "code",
   "execution_count": 13,
   "id": "victorian-mexican",
   "metadata": {},
   "outputs": [],
   "source": [
    "x = data[:,0]\n",
    "y = data[:,3]"
   ]
  },
  {
   "cell_type": "markdown",
   "id": "metropolitan-scott",
   "metadata": {},
   "source": [
    "Изобразим на графике точки Bid, Ask и среднее между ними"
   ]
  },
  {
   "cell_type": "code",
   "execution_count": 15,
   "id": "demonstrated-reset",
   "metadata": {},
   "outputs": [
    {
     "data": {
      "text/plain": [
       "<matplotlib.collections.PathCollection at 0x7f594002e550>"
      ]
     },
     "execution_count": 15,
     "metadata": {},
     "output_type": "execute_result"
    },
    {
     "data": {
      "image/png": "[encoded data removed]",
      "text/plain": [
       "<Figure size 432x288 with 1 Axes>"
      ]
     },
     "metadata": {
      "needs_background": "light"
     },
     "output_type": "display_data"
    }
   ],
   "source": [
    "plt.scatter(x, data[:,1])\n",
    "plt.scatter(x, data[:,2])\n",
    "plt.scatter(x, data[:,3])\n",
    "\n"
   ]
  },
  {
   "cell_type": "markdown",
   "id": "respected-vancouver",
   "metadata": {},
   "source": [
    "Напишем функцию для поиска оптимальной степени аппроксимирующего полинома следующим образом:\n",
    "Введём функцию $\\sigma_m = \\frac{1}{n-m}\\sqrt{\\sum_1^n(P(x_i)-y_i)^2}$\n",
    "\n",
    "Она тем меньше, чем меньше среднеквадратичное отклонение и тем больше, чем больше степень полинома, что позволяет избежать переобучения.\n",
    "\n",
    "Так же напишем функцию для определения коэффициента детерминации.\n",
    "\n"
   ]
  },
  {
   "cell_type": "code",
   "execution_count": 48,
   "id": "binding-cooper",
   "metadata": {},
   "outputs": [],
   "source": [
    "def find_best_degree(x, y):\n",
    "    sigmas = []\n",
    "    for degree in range(1, x.shape[0]):\n",
    "        coefs = poly.polyfit(x, y, degree)\n",
    "        ffit = poly.polyval(x, coefs)\n",
    "        sigmas.append(np.sqrt(np.sum((ffit-y)**2))/(x.shape[0] - degree))\n",
    "    return sigmas\n",
    "    \n",
    "def calculate_r2(x, y, y_hat):\n",
    "    SSres = np.sum((y-y_hat)**2)\n",
    "    SStot = np.sum((y-np.mean(y))**2)\n",
    "    \n",
    "    return 1 - SSres/SStot"
   ]
  },
  {
   "cell_type": "markdown",
   "id": "cooked-creek",
   "metadata": {},
   "source": [
    "Посчитаем значения $\\sigma_m$ для всех $m$ от 1 до 8."
   ]
  },
  {
   "cell_type": "code",
   "execution_count": 49,
   "id": "personalized-jungle",
   "metadata": {},
   "outputs": [
    {
     "data": {
      "text/plain": [
       "[3.044419416462411,\n",
       " 1.1124034655171346,\n",
       " 0.6858413716341829,\n",
       " 0.7648249897572902,\n",
       " 0.9356284738213179,\n",
       " 0.9299750883014447,\n",
       " 1.2164375362665383,\n",
       " 9.483412482263905e-08]"
      ]
     },
     "execution_count": 49,
     "metadata": {},
     "output_type": "execute_result"
    }
   ],
   "source": [
    "find_best_degree(x, y)"
   ]
  },
  {
   "cell_type": "markdown",
   "id": "adopted-vegetarian",
   "metadata": {},
   "source": [
    "Как видим, минимальное значение $\\sigma_m$ достигается при $m=8$. Тем не менее, это очень близко к количеству точек, что, вероятнее всего, означает переобучение.\n",
    "\n",
    "Второе минимальное значение $\\sigma_m$ достигается при $m=3$. Построим график, чтобы убедиться, что функция проходит строго между Bid и Ask и вычислим коэффициент детерминации"
   ]
  },
  {
   "cell_type": "code",
   "execution_count": 53,
   "id": "dedicated-remark",
   "metadata": {},
   "outputs": [
    {
     "name": "stdout",
     "output_type": "stream",
     "text": [
      "R^2 = 0.9716829064655149\n"
     ]
    },
    {
     "data": {
      "image/png": "[encoded data removed]",
      "text/plain": [
       "<Figure size 432x288 with 1 Axes>"
      ]
     },
     "metadata": {
      "needs_background": "light"
     },
     "output_type": "display_data"
    }
   ],
   "source": [
    "coefs = poly.polyfit(x, y, 3)\n",
    "ffit = poly.polyval(x, coefs)\n",
    "\n",
    "plt.scatter(x, data[:,1])\n",
    "plt.scatter(x, data[:,2])\n",
    "plt.plot(x, ffit)\n",
    "\n",
    "print('R^2 =', calculate_r2(x, y, ffit))"
   ]
  },
  {
   "cell_type": "markdown",
   "id": "nutritional-leader",
   "metadata": {},
   "source": [
    "## Задача №2\n",
    "##### Наблюдение 1\n",
    "Т.к. вращения рулетки независимы, то игра представляет собой марковскую цепь. Кроме того, наиболее подходящая математическая модель -- модель случайных блужданий\n",
    "##### Наблюдение 2\n",
    "Т.к. вращения рулетки независимы, то при существовании и единственности оптимальной стратегии оптимальная ставка может зависеть только от текущего размера банка\n",
    "\n",
    "##### Наблюдение 3\n",
    "Т.к. вероятности победы на каждом цвете одинаковы, то цвет, на который я ставлю не имеет значения. Игру можно заменить на нечестную монетку. Я выигрываю, если выпадает орёл($q = \\frac{18}{37}$), казино выигрывает, если выпадает решка($p = \\frac{19}{37}$)\n",
    "\n",
    "### Эмпирическое решение\n",
    "\n",
    "Кажется, что для того, чтобы увеличить банк на константную величину за $n$ ставок, нужно выиграть больше половины этих ставок.\n",
    "\n",
    "Т.к. вероятность выигрыша меньше, чем $0.5$, то чем больше $n$, тем меньше вероятность выиграть больше половины ставок.\n",
    "\n",
    "Таким образом, желательно увеличивать банк за минимальное число ставок, то есть размер ставок должен быть максимальным. Из этого следует, что на каждом шаге, нужно делать ставку в размере текущего банка. Но ситуация меняется, когда размер банка становится больше половины необходимой суммы. В таком случае рассмотрим следующее наблюдение.\n",
    "\n",
    "##### Наблюдение 4\n",
    "\n",
    "В случае, когда размер банка $b$ больше половины от необходимой для выигрыша суммы $a$, стоит ставить не $b$, а $a - b$, т.к. в таком случае мы не уменьшаем вероятность выиграть игру на текущем шаге, а в случае проигрыша ставки теряем меньше денег.\n",
    "\n",
    "##### Итог эмпирического решения:\n",
    "Оптимальна следующая стратегия: \n",
    "\n",
    "Пока размер банка $b$ меньше, чем половина необходимой для выигрыша суммы $a$ (в нашем случае $a = 10000$), стоит идти all-in, то есть делать ставки размера $r = b$. Если же $b \\geq a/2 $, то стоит делать ставки размера $r = a-b $\n",
    "\n",
    "### Строгое решение\n",
    "\n",
    "##### Переформулируем задачу\n",
    "Есть два игрока -- казино (первый игрок) и я (второй игрок). У меня в распоряжении 1000 рублей, у казино 9000. \n",
    "\n",
    "Пусть $A = -9000, B = 1000$. \n",
    "\n",
    "Для начала рассмотрим игру с постоянной единичной ставкой. Игрок выигрывает, если другой разоряется. \n",
    "\n",
    "Найдём вероятности победы первого и второго игрока через $n$ шагов. Каждый бросок нечестной монетки в таком случае можно рассматривать, как реализацию случайной величины $\\xi_i$.\n",
    "\n",
    "Если $\\xi_i = +1$, то будем считать, что второй игрок платит один доллар первому, если $\\xi_i = -1$, то наоборот.\n",
    "\n",
    "Тогда $S_k = \\xi_1 + \\xi_2 + ... + \\  \\xi_k$ суть величина выигрыша первого игрока у второго на $k$-ом ходу.\n",
    "\n",
    "В момент времени $k \\leq n$, когда $S_k$ впервые становится равным $B$ или $A$, один из игроков разоряется, а его противник выигрывает.\n",
    "\n",
    "##### Пусть: \n",
    "\n",
    "$x$ - целое число из $[A, B]$ \n",
    "\n",
    "$S_k^x = x + S_k$\n",
    "\n",
    "$\\tau_k^x$ = $min${$0\\leq l \\leq k: S_l^x = A$ или $B$} -- момент остановки\n",
    "\n",
    "Если $A < S_K^x < B$ для всех $0 \\leq l \\leq k$, то $\\tau_k^x = k$\n",
    "\n",
    "##### Тогда:\n",
    "\n",
    "Для всех $l<k$ множество $\\{\\omega: \\tau_k^x = l\\}$ это событие, означающее, что случайное блуждание $\\{S_i^x, 0 \\leq i \\leq k\\}$, начинающееся в начальный момент в точке x выйдет из интервала $(A, B)$ в момент $l$. \n",
    "\n",
    "Для $l\\leq k$ множества $\\{\\omega: \\tau_k^x = l, S_l^x = A\\}$ и $\\{\\omega: \\tau_k^x = l, S_l^x = B\\}$ обозначают победу второго и первого игроков соответственно в момент $l$.\n",
    "\n",
    "Для всех $0\\leq k \\leq n$:\n",
    "\n",
    "$\\mathcal{A}_k^x = \\sum_{0\\leq l \\leq k} \\{\\omega: \\tau_k^x = l, S_l^x = A\\}$\n",
    "\n",
    "$\\mathcal{B}_k^x = \\sum_{0\\leq l \\leq k} \\{\\omega: \\tau_k^x = l, S_l^x = B\\}$\n",
    "\n",
    "\n",
    "Вероятности победы за время $[0, k]$ равны:\n",
    "\n",
    "$\\alpha_k(x) = P(\\mathcal{A}_k^x)$  для второго игрока\n",
    "\n",
    "$\\beta_k(x) = P(\\mathcal{B}_k^x)$  для первого игрока\n",
    "\n",
    "##### Получим для этих вероятностей рекуррентные соотношения.\n",
    "\n",
    "Пусть $A < x < B$ и $1\\leq k \\leq n$\n",
    "\n",
    "Очевидно, $\\alpha_0(x) = \\beta_0(x) = 0$\n",
    "\n",
    "По формуле полной вероятности:\n",
    "$\\beta_k(x) = P(\\mathcal{B}_k^x) = P(\\mathcal{B}_k^x|S_1^x = x+1)P\\{\\xi_1 = +1\\} + P(\\mathcal{B}_k^x|S_1^x = x-1)P\\{\\xi_1 = -1\\}$ \n",
    "\n",
    "Очевидно, что $P(\\mathcal{B}_k^x|S_1^x = x+1) = P(\\mathcal{B}_{k-1}^{x+1})$, $P(\\mathcal{B}_k^x|S_1^x = x-1) = P(\\mathcal{B}_{k-1}^{x-1})$ (Просто считаем, что результат первого хода это начало игры)\n",
    "\n",
    "Тогда \n",
    "\n",
    "$\\beta_k(x) = p\\beta_{k-1}(x+1) + q\\beta_{k-1}(x-1)$\n",
    "\n",
    "$\\beta_l(B) = 1$, $\\beta_l(A) = 0$ для $0\\leq l\\leq n$\n",
    "\n",
    "Аналогично:\n",
    "\n",
    "$\\alpha_k(x) = p\\alpha_{k-1}(x+1) + q\\alpha_{k-1}(x-1)$\n",
    "\n",
    "$\\alpha_l(A) = 1$, $\\alpha_l(B) = 0$ для $0\\leq l\\leq n$\n",
    "\n",
    "Устремим $n$ к бесконечности:\n",
    "\n",
    "Получим уравнение:\n",
    "\n",
    "$\\beta(x) = p\\beta(x+1) + q\\beta(x-1)$\n",
    "\n",
    "С граничными условиями:\n",
    "\n",
    "$\\beta(B) = 1$, $\\beta(A) = 0$ \n",
    "\n",
    "Очевидны два частных решения этого уравнения:\n",
    "\n",
    "$\\beta = a$\n",
    "\n",
    "$\\beta = b(q/p)^x$, где $a$ и $b$ константы\n",
    "\n",
    "Тогда общее решение имеет вид:\n",
    "\n",
    "$\\beta = a + b(q/p)^x$\n",
    "\n",
    "С учётом граничных условий получаем:\n",
    "\n",
    "$\\beta(x) = \\frac{(q/p)^x - (q/p)^A}{(q/p)^B - (q/p)^A}$\n",
    "\n",
    "$\\beta = \\frac{1 - (q/p)^A}{(q/p)^B - (q/p)^A}$\n",
    "\n",
    "Аналогично\n",
    "\n",
    "$\\alpha(x) = \\frac{(q/p)^B - (q/p)^x}{(q/p)^B - (q/p)^A}$\n",
    "\n",
    "$\\alpha = \\frac{(q/p)^B - 1}{(q/p)^B - (q/p)^A}$\n",
    "\n",
    "\n",
    "##### Рассмотрим случай понижения ставки\n",
    "\n",
    "Пусть ставка теперь равна 1/2, а не 1\n",
    "\n",
    "Предельная вероятность разорения второго игрока обозначим за $\\beta_{1/2}$\n",
    "\n",
    "Тогда $\\beta_{1/2} = \\frac{1 - (q/p)^{2A}}{(q/p)^{2B} - (q/p)^{2A}}$\n",
    "\n",
    "или $\\beta_{1/2} = \\beta \\cdot \\frac{1 + (q/p)^A}{(q/p)^B + (q/p)^A} > \\beta$ при $p>q$\n",
    "\n",
    "Иными словами, т.к. вероятность повысилась несмотря на A и B, повышение ставки при игре в пользу казино повышает вероятность победы. \n",
    "\n",
    "На первом шаге максимизируем нашу ставку -- пойдём ва-банк\n",
    "\n",
    "После этого, можно рассматривать получившуюся ситуацию как новую игру. Снова пойдём ва-банк и т.д.\n",
    "\n",
    "Далее воспользуемся наблюдением 4, то есть будем идти ва-банк до тех пор, пока наш банк не превысит половину необходимой для победы суммы. Когда наша сумма будет больше половины, ставим сумму, недостоющую до 10000$. Итак, я аналитически доказал результат, полученный ранее эмпирически.\n",
    "\n",
    "\n",
    "##### Ниже представлено дерево исходов оптимальной стратегии\n",
    "<img src=\"Untitled 3.png\">\n",
    "\n",
    "Из дерева исходов можно найти вероятность уехать в лес под дулом пистолета.\n",
    "\n",
    "Вероятность уехать в лес сразу после первой ставки равна $p$\n",
    "\n",
    "Если мы выиграли первую ставку, то мы еще можем проиграть вторую(вероятность $pq$) и третью($pq^2$)\n",
    "\n",
    "Даже если мы не проиграли на этом этапе, радоваться рано. Мы получаем бесконечную геометрическую прогрессию из-за возвращения к 2000 при проигрыше на 6000\n",
    "\n",
    "Первый член прогрессии:\n",
    "$p_0 = q^3p^3 + q^4p^3$\n",
    "\n",
    "Знаменатель прогрессии:\n",
    "$z = q^2p^2$\n",
    "\n",
    "Сумма бесконечной геометрической прогрессии$p_{sum}$, как известно, равна\n",
    "$p_{sum} = \\frac{p_0}{1-z} = \\frac{qp + q^2p}{1 - q^2p^2}$\n",
    "\n",
    "Итого, вероятность пожалеть о своём решении брать в долг у опасных ребят равна $p_{res} = p + pq + pq^2 + \\frac{q^3p^3 + q^4p^3}{1 - q^2p^2} \\approx 0.92 $"
   ]
  },
  {
   "cell_type": "markdown",
   "id": "joint-jurisdiction",
   "metadata": {},
   "source": [
    "## Задача № 3"
   ]
  },
  {
   "cell_type": "code",
   "execution_count": 92,
   "id": "affiliated-donor",
   "metadata": {},
   "outputs": [],
   "source": [
    "btc_df = pd.read_csv('btc_historical.csv')"
   ]
  },
  {
   "cell_type": "code",
   "execution_count": 93,
   "id": "valuable-degree",
   "metadata": {},
   "outputs": [],
   "source": [
    "btc_df.drop(columns=['<TICKER>', '<PER>', '<TIME>', '<DATE>'], inplace=True)"
   ]
  },
  {
   "cell_type": "markdown",
   "id": "surgical-radar",
   "metadata": {},
   "source": [
    "Данные взяты с Finam.ru c 1/12/19 по 2/12/20 с дискретностью в один день. Я отбросил все ненужные стобцы"
   ]
  },
  {
   "cell_type": "code",
   "execution_count": 96,
   "id": "small-payday",
   "metadata": {},
   "outputs": [
    {
     "data": {
      "text/plain": [
       "<CLOSE>\n",
       "False      368\n",
       "dtype: int64"
      ]
     },
     "execution_count": 96,
     "metadata": {},
     "output_type": "execute_result"
    }
   ],
   "source": [
    "btc_df.isna().value_counts()"
   ]
  },
  {
   "cell_type": "markdown",
   "id": "sustainable-planner",
   "metadata": {},
   "source": [
    "Проверил, что в данных нет пропусков"
   ]
  },
  {
   "cell_type": "code",
   "execution_count": 97,
   "id": "hungarian-arlington",
   "metadata": {},
   "outputs": [
    {
     "data": {
      "text/html": [
       "<div>\n",
       "<style scoped>\n",
       "    .dataframe tbody tr th:only-of-type {\n",
       "        vertical-align: middle;\n",
       "    }\n",
       "\n",
       "    .dataframe tbody tr th {\n",
       "        vertical-align: top;\n",
       "    }\n",
       "\n",
       "    .dataframe thead th {\n",
       "        text-align: right;\n",
       "    }\n",
       "</style>\n",
       "<table border=\"1\" class=\"dataframe\">\n",
       "  <thead>\n",
       "    <tr style=\"text-align: right;\">\n",
       "      <th></th>\n",
       "      <th>&lt;CLOSE&gt;</th>\n",
       "    </tr>\n",
       "  </thead>\n",
       "  <tbody>\n",
       "    <tr>\n",
       "      <th>0</th>\n",
       "      <td>214.36</td>\n",
       "    </tr>\n",
       "    <tr>\n",
       "      <th>1</th>\n",
       "      <td>214.01</td>\n",
       "    </tr>\n",
       "    <tr>\n",
       "      <th>2</th>\n",
       "      <td>211.80</td>\n",
       "    </tr>\n",
       "    <tr>\n",
       "      <th>3</th>\n",
       "      <td>207.62</td>\n",
       "    </tr>\n",
       "    <tr>\n",
       "      <th>4</th>\n",
       "      <td>211.60</td>\n",
       "    </tr>\n",
       "  </tbody>\n",
       "</table>\n",
       "</div>"
      ],
      "text/plain": [
       "   <CLOSE>\n",
       "0   214.36\n",
       "1   214.01\n",
       "2   211.80\n",
       "3   207.62\n",
       "4   211.60"
      ]
     },
     "execution_count": 97,
     "metadata": {},
     "output_type": "execute_result"
    }
   ],
   "source": [
    "btc_df.head(5)"
   ]
  },
  {
   "cell_type": "code",
   "execution_count": 99,
   "id": "consistent-breach",
   "metadata": {},
   "outputs": [],
   "source": [
    "from hurst import compute_Hc"
   ]
  },
  {
   "cell_type": "code",
   "execution_count": 141,
   "id": "divided-growth",
   "metadata": {},
   "outputs": [],
   "source": [
    "H, c, val = compute_Hc(btc_df['<CLOSE>'])"
   ]
  },
  {
   "cell_type": "code",
   "execution_count": 143,
   "id": "comic-nightlife",
   "metadata": {},
   "outputs": [
    {
     "name": "stdout",
     "output_type": "stream",
     "text": [
      "Показатель Хёрста: 0.5101254240100435\n"
     ]
    }
   ],
   "source": [
    "print('Показатель Хёрста:', H)"
   ]
  },
  {
   "cell_type": "markdown",
   "id": "champion-paragraph",
   "metadata": {},
   "source": [
    "Напишем функцию для рассчёта относительного процентного приращения за определённый период, исходя из следующего определения:\n",
    "\n",
    "Относительное приращение функции $f(x)$ равно $ \\frac{\\Delta f}{\\Delta x}$\n",
    "\n",
    "Относительное процентное приращение: $f(x)$ равно $\\frac{\\Delta f}{f(x_0)\\Delta x}$\n",
    "\n",
    "В нашем случае имеем функцию цены от времени.\n",
    "\n",
    "\n",
    "\n"
   ]
  },
  {
   "cell_type": "code",
   "execution_count": 193,
   "id": "funny-ideal",
   "metadata": {},
   "outputs": [],
   "source": [
    "def calculate_increase(row, period ):\n",
    "    if int(row.name) >= period:\n",
    "        return (row['<CLOSE>'] / btc_df['<CLOSE>'].iloc[int(row.name) - period] - 1)/period"
   ]
  },
  {
   "cell_type": "markdown",
   "id": "hydraulic-lesson",
   "metadata": {},
   "source": [
    "Создадим датасеты 'btc_daily_increase' и 'btc_weekly_increase', в которых будут содержаться относительные процентные приращения с периодом в день и неделю соответственно\n",
    "\n",
    "Домножим на 100 элементы каждого датасета, чтобы там хранились единицы процентов"
   ]
  },
  {
   "cell_type": "code",
   "execution_count": 282,
   "id": "dangerous-consent",
   "metadata": {},
   "outputs": [],
   "source": [
    "btc_daily_increase = btc_df.apply(calculate_increase, args=[1], axis=1)\n",
    "btc_weekly_increase = btc_df.apply(calculate_increase, args=[7], axis=1)\n",
    "\n",
    "btc_daily_increase *= 100\n",
    "btc_weekly_increase *= 100\n"
   ]
  },
  {
   "cell_type": "code",
   "execution_count": 283,
   "id": "together-indianapolis",
   "metadata": {},
   "outputs": [],
   "source": [
    "btc_daily_increase.dropna(inplace=True)\n",
    "btc_weekly_increase.dropna(inplace=True)\n"
   ]
  },
  {
   "cell_type": "code",
   "execution_count": 284,
   "id": "swedish-economy",
   "metadata": {},
   "outputs": [
    {
     "name": "stdout",
     "output_type": "stream",
     "text": [
      "Относительное процентное приращения с периодом в день за первые 5 дней, для которых оно определено: \n",
      "1   -0.163277\n",
      "2   -1.032662\n",
      "3   -1.973560\n",
      "4    1.916964\n",
      "5    0.775047\n",
      "dtype: float64\n",
      "Относительное процентное приращения с периодом в неделю за первые 5 дней, для которых оно определено: \n",
      "7    -0.109962\n",
      "8    -0.375149\n",
      "9    -0.337245\n",
      "10   -0.063302\n",
      "11   -0.353092\n",
      "dtype: float64\n"
     ]
    }
   ],
   "source": [
    "print('Относительное процентное приращения с периодом в день за первые 5 дней, для которых оно определено: ')\n",
    "print(btc_daily_increase.head(5))\n",
    "print('Относительное процентное приращения с периодом в неделю за первые 5 дней, для которых оно определено: ')\n",
    "print(btc_weekly_increase.head(5))"
   ]
  },
  {
   "cell_type": "markdown",
   "id": "allied-feature",
   "metadata": {},
   "source": [
    "Напишем функцию для рассчета n-того центрального момента"
   ]
  },
  {
   "cell_type": "code",
   "execution_count": 285,
   "id": "dramatic-rotation",
   "metadata": {},
   "outputs": [],
   "source": [
    "def calculate_nth_center_moment(x, n):\n",
    "    return ((x - x.mean())**n).mean()"
   ]
  },
  {
   "cell_type": "code",
   "execution_count": 286,
   "id": "colored-sitting",
   "metadata": {},
   "outputs": [
    {
     "name": "stdout",
     "output_type": "stream",
     "text": [
      "Период в день. Первый ц.м.: 3.872167497330246e-17, второй ц.м.: 30.263209435479315, третий ц.м.: -119.11186762036483\n",
      "Период в неделю. Первый ц.м.: -1.4761968194461916e-17, второй ц.м.: 3.34910876039672, третий ц.м.: -0.6821430303071647\n"
     ]
    }
   ],
   "source": [
    "daily_1st_central = calculate_nth_center_moment(btc_daily_increase, 1)\n",
    "daily_2nd_central = calculate_nth_center_moment(btc_daily_increase, 2)\n",
    "daily_3rd_central = calculate_nth_center_moment(btc_daily_increase, 3)\n",
    "\n",
    "print(f'Период в день. Первый ц.м.: {daily_1st_central}, второй ц.м.: {daily_2nd_central}, третий ц.м.: {daily_3rd_central}')\n",
    "\n",
    "weekly_1st_central = calculate_nth_center_moment(btc_weekly_increase, 1)\n",
    "weekly_2nd_central = calculate_nth_center_moment(btc_weekly_increase, 2)\n",
    "weekly_3rd_central = calculate_nth_center_moment(btc_weekly_increase, 3)\n",
    "\n",
    "print(f'Период в неделю. Первый ц.м.: {weekly_1st_central}, второй ц.м.: {weekly_2nd_central}, третий ц.м.: {weekly_3rd_central}')\n"
   ]
  },
  {
   "cell_type": "markdown",
   "id": "abstract-miami",
   "metadata": {},
   "source": [
    "Напишем функцию для несмещенной и состоятельной оценки среднего и дисперсии нормального распределения по выборке x"
   ]
  },
  {
   "cell_type": "code",
   "execution_count": 287,
   "id": "fantastic-journey",
   "metadata": {},
   "outputs": [],
   "source": [
    "def fit_gaussian(x):\n",
    "    return x.mean(), ((x - x.mean())**2).sum()/(x.shape[0]-1)"
   ]
  },
  {
   "cell_type": "code",
   "execution_count": 288,
   "id": "reserved-envelope",
   "metadata": {},
   "outputs": [],
   "source": [
    "daily_gaussian = fit_gaussian(btc_daily_increase)\n",
    "weekly_gaussian = fit_gaussian(btc_weekly_increase)"
   ]
  },
  {
   "cell_type": "code",
   "execution_count": 289,
   "id": "indoor-grade",
   "metadata": {},
   "outputs": [
    {
     "name": "stdout",
     "output_type": "stream",
     "text": [
      "Оценка параметров нормального распределения по выборке с периодом в день. Матожидание: 0.24708221623502863, дисперсия:30.34589580005713\n",
      "Оценка параметров нормального распределения по выборке с периодом в неделю. Матожидание: 0.20581747821810772, дисперсия:3.358411840286711\n"
     ]
    }
   ],
   "source": [
    "print(f'Оценка параметров нормального распределения по выборке с периодом в день. Матожидание: {daily_gaussian[0]}, дисперсия:{daily_gaussian[1]}')\n",
    "print(f'Оценка параметров нормального распределения по выборке с периодом в неделю. Матожидание: {weekly_gaussian[0]}, дисперсия:{weekly_gaussian[1]}')"
   ]
  },
  {
   "cell_type": "code",
   "execution_count": 290,
   "id": "fantastic-solomon",
   "metadata": {},
   "outputs": [],
   "source": [
    "\n",
    "import seaborn as sns\n",
    "from scipy.stats import norm\n",
    "import matplotlib.pyplot as plt\n"
   ]
  },
  {
   "cell_type": "code",
   "execution_count": 293,
   "id": "retained-reputation",
   "metadata": {},
   "outputs": [
    {
     "name": "stderr",
     "output_type": "stream",
     "text": [
      "/home/drone/enviroments/jupyter_env/lib/python3.8/site-packages/seaborn/distributions.py:2557: FutureWarning: `distplot` is a deprecated function and will be removed in a future version. Please adapt your code to use either `displot` (a figure-level function with similar flexibility) or `histplot` (an axes-level function for histograms).\n",
      "  warnings.warn(msg, FutureWarning)\n"
     ]
    },
    {
     "data": {
      "text/plain": [
       "[<matplotlib.lines.Line2D at 0x7f58813b42e0>]"
      ]
     },
     "execution_count": 293,
     "metadata": {},
     "output_type": "execute_result"
    },
    {
     "data": {
      "image/png": "[encoded data removed]",
      "text/plain": [
       "<Figure size 432x288 with 1 Axes>"
      ]
     },
     "metadata": {
      "needs_background": "light"
     },
     "output_type": "display_data"
    }
   ],
   "source": [
    "x = np.linspace(-40,40,1000)\n",
    "y = norm.pdf(x, loc=daily_gaussian[0], scale=daily_gaussian[1]**0.5)\n",
    "\n",
    "ax = sns.distplot(btc_daily_increase)\n",
    "plt.plot(x, y)"
   ]
  },
  {
   "cell_type": "code",
   "execution_count": 296,
   "id": "painted-appendix",
   "metadata": {},
   "outputs": [
    {
     "name": "stderr",
     "output_type": "stream",
     "text": [
      "/home/drone/enviroments/jupyter_env/lib/python3.8/site-packages/seaborn/distributions.py:2557: FutureWarning: `distplot` is a deprecated function and will be removed in a future version. Please adapt your code to use either `displot` (a figure-level function with similar flexibility) or `histplot` (an axes-level function for histograms).\n",
      "  warnings.warn(msg, FutureWarning)\n"
     ]
    },
    {
     "data": {
      "text/plain": [
       "[<matplotlib.lines.Line2D at 0x7f5881ef12b0>]"
      ]
     },
     "execution_count": 296,
     "metadata": {},
     "output_type": "execute_result"
    },
    {
     "data": {
      "image/png": "[encoded data removed]",
      "text/plain": [
       "<Figure size 432x288 with 1 Axes>"
      ]
     },
     "metadata": {
      "needs_background": "light"
     },
     "output_type": "display_data"
    }
   ],
   "source": [
    "x = np.linspace(-15,15,5000)\n",
    "y = norm.pdf(x, loc=weekly_gaussian[0], scale=weekly_gaussian[1]**0.5)\n",
    "\n",
    "ax = sns.distplot(btc_weekly_increase)\n",
    "plt.plot(x, y)"
   ]
  },
  {
   "cell_type": "markdown",
   "id": "greatest-function",
   "metadata": {},
   "source": [
    "Главеое отличие -- коэффициент эксцесса. У аппроксимирующей кривой в обоих случаях он положителен, а у нормального распределения он равен нулю."
   ]
  },
  {
   "cell_type": "code",
   "execution_count": 299,
   "id": "latest-whole",
   "metadata": {},
   "outputs": [],
   "source": [
    "btc_daily_increase_df = pd.DataFrame(btc_daily_increase)\n",
    "btc_weekly_increase_df = pd.DataFrame(btc_weekly_increase)"
   ]
  },
  {
   "cell_type": "code",
   "execution_count": 304,
   "id": "funny-universe",
   "metadata": {},
   "outputs": [],
   "source": [
    "btc_daily_increase_df['MSTD'] = btc_daily_increase_df.rolling(30).std()\n",
    "btc_weekly_increase_df['MSTD'] = btc_weekly_increase_df.rolling(30).std()"
   ]
  },
  {
   "cell_type": "code",
   "execution_count": 309,
   "id": "industrial-brick",
   "metadata": {},
   "outputs": [
    {
     "name": "stdout",
     "output_type": "stream",
     "text": [
      "Медиана STD на скользящем окне 30 дней с периодом в день: 4.198724348460576\n",
      "Медиана STD на скользящем окне 30 дней с периодом в неделю: 1.1979969063887652\n"
     ]
    }
   ],
   "source": [
    "print('Медиана STD на скользящем окне 30 дней с периодом в день:',btc_daily_increase_df['MSTD'].dropna().median())\n",
    "print('Медиана STD на скользящем окне 30 дней с периодом в неделю:',btc_weekly_increase_df['MSTD'].dropna().median())"
   ]
  },
  {
   "cell_type": "code",
   "execution_count": null,
   "id": "dietary-monster",
   "metadata": {},
   "outputs": [],
   "source": []
  }
 ],
 "metadata": {
  "kernelspec": {
   "display_name": "Python 3",
   "language": "python",
   "name": "python3"
  },
  "language_info": {
   "codemirror_mode": {
    "name": "ipython",
    "version": 3
   },
   "file_extension": ".py",
   "mimetype": "text/x-python",
   "name": "python",
   "nbconvert_exporter": "python",
   "pygments_lexer": "ipython3",
   "version": "3.8.5"
  }
 },
 "nbformat": 4,
 "nbformat_minor": 5
}
